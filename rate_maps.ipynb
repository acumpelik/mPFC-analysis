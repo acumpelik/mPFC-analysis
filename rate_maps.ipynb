{
 "cells": [
  {
   "cell_type": "code",
   "id": "initial_id",
   "metadata": {
    "collapsed": true,
    "ExecuteTime": {
     "end_time": "2025-07-08T22:32:10.388407Z",
     "start_time": "2025-07-08T22:32:10.385722Z"
    }
   },
   "source": [
    "# Rate map for JC315 Arm 4 (Honey) Day 1 Training 1\n",
    "# JC315_20240330_training1\n",
    "\n",
    "animal = 'JC315'\n",
    "day = 20240330\n",
    "session = 'training1'\n",
    "arm = 4 #adjust to Vlad's numbering"
   ],
   "outputs": [],
   "execution_count": 33
  },
  {
   "metadata": {},
   "cell_type": "markdown",
   "source": [
    "### Data required to run this code\n",
    "* .clu: spike cluster IDs\n",
    "* .res: spike timestamps\n",
    "* .des: cluster cell types (filter for PYRs)\n",
    "* .des_full: (optional) cluster brain region\n",
    "* .lwhl_vladVersion: linearized positions per whl frame and arm ID\n",
    "    - fixed_1d_pos\n",
    "    - fixed_arm_id\n",
    "* .speed_vladVersion: animal speed\n",
    "* .trials_vladVersion: trial start and end times\n",
    "* .reward_arms: baited arms\n",
    "\n",
    "### Parameters\n",
    "* arm length: should be 160 but verify load_input_params_Decoding()\n",
    "* sampling rate res: defined in load_input_params_base()\n",
    "* sampling rate whl: \""
   ],
   "id": "3c5273701026449d"
  },
  {
   "metadata": {
    "ExecuteTime": {
     "end_time": "2025-07-08T22:19:39.410682Z",
     "start_time": "2025-07-08T22:19:39.407821Z"
    }
   },
   "cell_type": "code",
   "source": [
    "path = (f\"/Users/andrea/adata_laptop/Merged/{animal}-{day}/\") # path to my data\n",
    "preprocessed_path = (f\"/Users/andrea/github/vlad_analysis_folder/{animal}_{day}_{session}\") # path to Vlad's preprocessed files"
   ],
   "id": "80cdb1ba7af63183",
   "outputs": [],
   "execution_count": 21
  },
  {
   "metadata": {
    "ExecuteTime": {
     "end_time": "2025-07-08T22:30:59.529875Z",
     "start_time": "2025-07-08T22:30:59.526870Z"
    }
   },
   "cell_type": "code",
   "source": [
    "clu = f\"{path}{animal}-{day}_{session}.clu\"\n",
    "res = f\"{path}{animal}-{day}_{session}.res\"\n",
    "des = f\"{path}{animal}-{day}.des\"\n",
    "des_full = f\"{path}{animal}-{day}.des_full\"\n",
    "whl = f\"{preprocessed_path}.whl_vladVersion\"\n",
    "speed = f\"{preprocessed_path}.speed_vladVersion\"\n",
    "trials = f\"{preprocessed_path}.trials_vladVersion\"\n",
    "reward_arms = f\"{path}.reward_arms\""
   ],
   "id": "70681ae25c265c30",
   "outputs": [],
   "execution_count": 32
  },
  {
   "metadata": {
    "ExecuteTime": {
     "end_time": "2025-07-08T22:12:31.080715Z",
     "start_time": "2025-07-08T22:12:31.078267Z"
    }
   },
   "cell_type": "code",
   "source": [
    "# [rate_matrix_i,\n",
    "# occupancy_matrix_i,\n",
    "# all_spike_pos_i,\n",
    "# all_spike_res_i,\n",
    "# n_visits_arm_i,\n",
    "# cell_has_enough_spikes_i,\n",
    "# spatial_info_skags_i,\n",
    "# sparsity_skags_i] = compute_rate_maps(smooth_pos,\n",
    "# segmented_trials_t,\n",
    "# speed,\n",
    "# speed_threshold,\n",
    "# speed_threshold_sign,\n",
    "# putative_type,\n",
    "# sr_whl_del_data,\n",
    "# clu, res,maze_type[rat_i],\n",
    "# n_bins=legth_arm,\n",
    "# n_arms=len(speed_threshold_sign),\n",
    "# smoothing_std=5)\n",
    "\n",
    "\n",
    "# rate_matrix[(training_num-1*split_grops+split_grops_i]=rate_matrix_i\n",
    "# occupancy_matrix[(training_num-1)*split_grops+split_grops_i]=occupancy_matrix_i\n",
    "#                 all_spike_pos[(training_num-1)*split_grops+split_grops_i]=all_spike_pos_i\n",
    "#                 all_spike_res[(training_num-1)*split_grops+split_grops_i]=all_spike_res_i\n",
    "#                 n_visits_arm_all[:,(training_num-1)*split_grops+split_grops_i]=n_visits_arm_i\n",
    "#                 cell_has_enough_spikes[:,:,(training_num-1)*split_grops+split_grops_i]=cell_has_enough_spikes_i\n",
    "#                 spatial_info_all[(training_num-1)*split_grops+split_grops_i]=spatial_info_skags_i\n",
    "#                 sparsity_all[(training_num-1)*split_grops+split_grops_i]=sparsity_skags_i"
   ],
   "id": "770a38d00a7a889c",
   "outputs": [],
   "execution_count": 12
  },
  {
   "metadata": {},
   "cell_type": "markdown",
   "source": "",
   "id": "e6cc8f07b10cc78b"
  },
  {
   "metadata": {},
   "cell_type": "code",
   "outputs": [],
   "execution_count": null,
   "source": "",
   "id": "f8eaaf07b396d1be"
  }
 ],
 "metadata": {
  "kernelspec": {
   "display_name": "Python 3",
   "language": "python",
   "name": "python3"
  },
  "language_info": {
   "codemirror_mode": {
    "name": "ipython",
    "version": 2
   },
   "file_extension": ".py",
   "mimetype": "text/x-python",
   "name": "python",
   "nbconvert_exporter": "python",
   "pygments_lexer": "ipython2",
   "version": "2.7.6"
  }
 },
 "nbformat": 4,
 "nbformat_minor": 5
}
