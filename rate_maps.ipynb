{
 "cells": [
  {
   "metadata": {},
   "cell_type": "markdown",
   "source": [
    "### Rate map for JC315-20240330_training1 Arm 4\n",
    "\n",
    "#### Input files\n",
    "From my data:\n",
    "* .clu: spike cluster IDs\n",
    "* .res: spike timestamps\n",
    "* .des: cluster cell types (filter for PYRs)\n",
    "* .des_full: (optional) cluster brain region\n",
    "* .reward_arms: baited arms\n",
    "\n",
    "From Vlad's preprocessing script output:\n",
    "* .lwhl_vladVersion: linearized positions per whl frame and arm ID\n",
    "    - fixed_1d_pos\n",
    "    - fixed_arm_id\n",
    "* .speed_vladVersion: animal speed\n",
    "* .trials_vladVersion: trial start and end times\n",
    "\n",
    "#### Parameters\n",
    "length_arm = 160\n",
    "sampling_rate_whl = 39.0625\n",
    "sampling_rate_res = 20000\n",
    "speed_threshold = 5"
   ],
   "id": "5499425faa29a3cf"
  },
  {
   "metadata": {
    "ExecuteTime": {
     "end_time": "2025-07-09T01:36:01.655271Z",
     "start_time": "2025-07-09T01:36:01.614750Z"
    }
   },
   "cell_type": "code",
   "source": "import numpy as np",
   "id": "31742e3b6c5602cd",
   "outputs": [],
   "execution_count": 1
  },
  {
   "cell_type": "code",
   "id": "initial_id",
   "metadata": {
    "collapsed": true,
    "ExecuteTime": {
     "end_time": "2025-07-09T01:36:01.659691Z",
     "start_time": "2025-07-09T01:36:01.658066Z"
    }
   },
   "source": [
    "animal = 'JC315'\n",
    "day = 20240330\n",
    "session = 'training1'\n",
    "arm = 4 # honey; adjust to Vlad's numbering"
   ],
   "outputs": [],
   "execution_count": 2
  },
  {
   "metadata": {
    "ExecuteTime": {
     "end_time": "2025-07-09T01:36:01.712960Z",
     "start_time": "2025-07-09T01:36:01.711030Z"
    }
   },
   "cell_type": "code",
   "source": [
    "path = (f\"/Users/andrea/adata_laptop/Merged/{animal}-{day}/\") # path to my data\n",
    "preprocessed_path = (f\"/Users/andrea/github/vlad_analysis_folder/{animal}_{day}_{session}\") # path to Vlad's preprocessed files\n",
    "\n",
    "# Parameters\n",
    "length_arm = 160\n",
    "sampling_rate_whl = 39.0625\n",
    "sampling_rate_res = 20000\n",
    "speed_threshold = 5"
   ],
   "id": "80cdb1ba7af63183",
   "outputs": [],
   "execution_count": 3
  },
  {
   "metadata": {
    "ExecuteTime": {
     "end_time": "2025-07-09T01:39:17.241546Z",
     "start_time": "2025-07-09T01:39:16.760716Z"
    }
   },
   "cell_type": "code",
   "source": [
    "clu_full = np.fromfile(f\"{path}{animal}-{day}_{session}.clu\",dtype=int, sep=\" \")\n",
    "clu = clu_full[1:] # first cluster is noise\n",
    "res = np.fromfile(f\"{path}{animal}-{day}_{session}.res\",dtype=int,sep=\" \")\n",
    "des = f\"{path}{animal}-{day}.des\"\n",
    "des_full = f\"{path}{animal}-{day}.des_full\"\n",
    "whl = f\"{preprocessed_path}.whl_vladVersion\"\n",
    "speed = f\"{preprocessed_path}.speed_vladVersion\"\n",
    "trials = f\"{preprocessed_path}.trials_vladVersion\"\n",
    "reward_arms = f\"{path}.reward_arms\""
   ],
   "id": "70681ae25c265c30",
   "outputs": [],
   "execution_count": 17
  },
  {
   "metadata": {
    "ExecuteTime": {
     "end_time": "2025-07-09T01:39:54.714378Z",
     "start_time": "2025-07-09T01:39:54.711254Z"
    }
   },
   "cell_type": "code",
   "source": "print(len(clu))",
   "id": "db057c1e2e548a7b",
   "outputs": [
    {
     "name": "stdout",
     "output_type": "stream",
     "text": [
      "1405515\n"
     ]
    }
   ],
   "execution_count": 19
  },
  {
   "metadata": {
    "ExecuteTime": {
     "end_time": "2025-07-09T01:36:02.249819Z",
     "start_time": "2025-07-09T01:36:02.247914Z"
    }
   },
   "cell_type": "code",
   "source": [
    "# [rate_matrix_i,\n",
    "# occupancy_matrix_i,\n",
    "# all_spike_pos_i,\n",
    "# all_spike_res_i,\n",
    "# n_visits_arm_i,\n",
    "# cell_has_enough_spikes_i,\n",
    "# spatial_info_skags_i,\n",
    "# sparsity_skags_i] = compute_rate_maps(smooth_pos,\n",
    "# segmented_trials_t,\n",
    "# speed,\n",
    "# speed_threshold,\n",
    "# speed_threshold_sign,\n",
    "# putative_type,\n",
    "# sr_whl_del_data,\n",
    "# clu, res,maze_type[rat_i],\n",
    "# n_bins=legth_arm,\n",
    "# n_arms=len(speed_threshold_sign),\n",
    "# smoothing_std=5)\n",
    "\n",
    "\n",
    "# rate_matrix[(training_num-1*split_grops+split_grops_i]=rate_matrix_i\n",
    "# occupancy_matrix[(training_num-1)*split_grops+split_grops_i]=occupancy_matrix_i\n",
    "#                 all_spike_pos[(training_num-1)*split_grops+split_grops_i]=all_spike_pos_i\n",
    "#                 all_spike_res[(training_num-1)*split_grops+split_grops_i]=all_spike_res_i\n",
    "#                 n_visits_arm_all[:,(training_num-1)*split_grops+split_grops_i]=n_visits_arm_i\n",
    "#                 cell_has_enough_spikes[:,:,(training_num-1)*split_grops+split_grops_i]=cell_has_enough_spikes_i\n",
    "#                 spatial_info_all[(training_num-1)*split_grops+split_grops_i]=spatial_info_skags_i\n",
    "#                 sparsity_all[(training_num-1)*split_grops+split_grops_i]=sparsity_skags_i"
   ],
   "id": "770a38d00a7a889c",
   "outputs": [],
   "execution_count": 6
  },
  {
   "metadata": {},
   "cell_type": "markdown",
   "source": "",
   "id": "e6cc8f07b10cc78b"
  },
  {
   "metadata": {
    "ExecuteTime": {
     "end_time": "2025-07-09T01:36:02.256459Z",
     "start_time": "2025-07-09T01:36:02.255044Z"
    }
   },
   "cell_type": "code",
   "source": "",
   "id": "f8eaaf07b396d1be",
   "outputs": [],
   "execution_count": null
  }
 ],
 "metadata": {
  "kernelspec": {
   "display_name": "Python 3",
   "language": "python",
   "name": "python3"
  },
  "language_info": {
   "codemirror_mode": {
    "name": "ipython",
    "version": 2
   },
   "file_extension": ".py",
   "mimetype": "text/x-python",
   "name": "python",
   "nbconvert_exporter": "python",
   "pygments_lexer": "ipython2",
   "version": "2.7.6"
  }
 },
 "nbformat": 4,
 "nbformat_minor": 5
}
