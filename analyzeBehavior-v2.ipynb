{
 "cells": [
  {
   "cell_type": "code",
   "execution_count": 5,
   "metadata": {},
   "outputs": [
    {
     "data": {
      "text/html": [
       "<div>\n",
       "<style scoped>\n",
       "    .dataframe tbody tr th:only-of-type {\n",
       "        vertical-align: middle;\n",
       "    }\n",
       "\n",
       "    .dataframe tbody tr th {\n",
       "        vertical-align: top;\n",
       "    }\n",
       "\n",
       "    .dataframe thead th {\n",
       "        text-align: right;\n",
       "    }\n",
       "</style>\n",
       "<table border=\"1\" class=\"dataframe\">\n",
       "  <thead>\n",
       "    <tr style=\"text-align: right;\">\n",
       "      <th></th>\n",
       "      <th>Session_ID</th>\n",
       "      <th>Flavor</th>\n",
       "      <th>Arm</th>\n",
       "      <th>Correct</th>\n",
       "      <th>CorrectBool</th>\n",
       "    </tr>\n",
       "  </thead>\n",
       "  <tbody>\n",
       "    <tr>\n",
       "      <th>0</th>\n",
       "      <td>1</td>\n",
       "      <td>H</td>\n",
       "      <td>3</td>\n",
       "      <td>N</td>\n",
       "      <td>0</td>\n",
       "    </tr>\n",
       "    <tr>\n",
       "      <th>1</th>\n",
       "      <td>1</td>\n",
       "      <td>H</td>\n",
       "      <td>7</td>\n",
       "      <td>Y</td>\n",
       "      <td>1</td>\n",
       "    </tr>\n",
       "    <tr>\n",
       "      <th>2</th>\n",
       "      <td>1</td>\n",
       "      <td>H</td>\n",
       "      <td>4</td>\n",
       "      <td>N</td>\n",
       "      <td>0</td>\n",
       "    </tr>\n",
       "    <tr>\n",
       "      <th>3</th>\n",
       "      <td>1</td>\n",
       "      <td>H</td>\n",
       "      <td>7</td>\n",
       "      <td>Y</td>\n",
       "      <td>1</td>\n",
       "    </tr>\n",
       "    <tr>\n",
       "      <th>4</th>\n",
       "      <td>1</td>\n",
       "      <td>H</td>\n",
       "      <td>2</td>\n",
       "      <td>N</td>\n",
       "      <td>0</td>\n",
       "    </tr>\n",
       "  </tbody>\n",
       "</table>\n",
       "</div>"
      ],
      "text/plain": [
       "   Session_ID Flavor  Arm Correct  CorrectBool\n",
       "0           1      H    3       N            0\n",
       "1           1      H    7       Y            1\n",
       "2           1      H    4       N            0\n",
       "3           1      H    7       Y            1\n",
       "4           1      H    2       N            0"
      ]
     },
     "execution_count": 5,
     "metadata": {},
     "output_type": "execute_result"
    }
   ],
   "source": [
    "import pandas as pd\n",
    "import numpy as np\n",
    "import matplotlib.pyplot as plt\n",
    "\n",
    "# Import the data\n",
    "JC240_data = pd.read_csv('JC240_data.csv')\n",
    "JC241_data = pd.read_csv('JC241_data.csv')\n",
    "\n",
    "# Show data\n",
    "JC240_data.head()\n",
    "JC241_data.head()"
   ]
  },
  {
   "cell_type": "code",
   "execution_count": 9,
   "metadata": {},
   "outputs": [],
   "source": [
    "# Calculate accuracy for over all sessions for a given animal\n",
    "def get_accuracy(JCxxx):\n",
    "    data_JCxxx = str(JCxxx) + \"_data\" # concatenate strings\n",
    "    data_JCxxx = globals()[data_JCxxx] # convert string to variable\n",
    "    bysession_JCxxx = data_JCxxx.groupby(\"Session_ID\")\n",
    "    sessions = bysession_JCxxx[\"Session_ID\"].unique()\n",
    "    accuracy = np.zeros(len(sessions))\n",
    "    for session in range(1, len(sessions)+1):\n",
    "        accuracy[session-1] = round(bysession_JCxxx.get_group(session)[\"CorrectBool\"].sum() / bysession_JCxxx.get_group(session).count()[0]*100, 0)\n",
    "    return accuracy, sessions\n",
    "    \n",
    "accuracy_JC240, sessions_JC240 = get_accuracy(\"JC240\")\n",
    "accuracy_JC241, sessions_JC241 = get_accuracy(\"JC241\")"
   ]
  },
  {
   "cell_type": "code",
   "execution_count": 32,
   "metadata": {},
   "outputs": [
    {
     "name": "stdout",
     "output_type": "stream",
     "text": [
      "[[14.  5.  7.]\n",
      " [15. 16.  7.]\n",
      " [32. 13.  5.]\n",
      " [36. 31.  3.]\n",
      " [23. 47.  0.]\n",
      " [44. 26.  0.]\n",
      " [32. 38.  0.]\n",
      " [31. 39.  0.]\n",
      " [30. 21.  5.]\n",
      " [24. 35. 10.]\n",
      " [30. 31.  8.]\n",
      " [25. 23. 21.]\n",
      " [19. 16. 34.]\n",
      " [22. 20. 27.]\n",
      " [23. 23. 23.]\n",
      " [23. 22. 24.]]\n"
     ]
    }
   ],
   "source": [
    "# Calculate arm choice by session\n",
    "\n",
    "def get_arm_choice(JCxxx):\n",
    "    data_JCxxx = str(JCxxx) + \"_data\" # get data\n",
    "    data_JCxxx = globals()[data_JCxxx] # turn into variable\n",
    "    bysession_JCxxx = data_JCxxx.groupby(\"Session_ID\") # group by session\n",
    "    sessions = bysession_JCxxx[\"Session_ID\"].unique() # list sessions\n",
    "    arms = np.array([3, 7]) # list arms of interest\n",
    "    num_arms = len(arms) # count arms\n",
    "    arm_choice = np.zeros((len(sessions), num_arms+1)) # make a vector that will hold arm choice for each session\n",
    "                                                        # and add another column for other arms\n",
    "    for session in range(1, len(sessions)+1): # iterate over sessions, starting at 1 instead of 0\n",
    "        num_trials = bysession_JCxxx.get_group(session).count()[0] # count number of trials per session\n",
    "        for arm in range(num_arms): # iterate over arms by indexing numpy array\n",
    "            this_session = bysession_JCxxx.get_group(session)\n",
    "            choices_bool = this_session[\"Arm\"]==(arms[arm]) # Boolean of whether arm was chosen\n",
    "            count = len(choices_bool[choices_bool==True])\n",
    "            arm_choice[session-1][arm] = count\n",
    "        arm_choice[session-1][-1] = num_trials - arm_choice[session-1][0] - arm_choice[session-1][1]\n",
    "                                    # for last column subtract arms of interest from total trials\n",
    "    return arm_choice\n",
    "\n",
    "arm_choice = get_arm_choice(\"JC240\")\n",
    "print(arm_choice)"
   ]
  },
  {
   "cell_type": "code",
   "execution_count": 33,
   "metadata": {},
   "outputs": [
    {
     "data": {
      "image/png": "[encoded data removed]",
      "text/plain": [
       "<Figure size 1080x1008 with 1 Axes>"
      ]
     },
     "metadata": {
      "needs_background": "light"
     },
     "output_type": "display_data"
    }
   ],
   "source": [
    "# Plot accuracy and arm choice before third flavor introduced\n",
    "fig = plt.figure(figsize=(15,14))\n",
    "\n",
    "# Accuracy\n",
    "ax1 = fig.add_subplot(211)\n",
    "ax1.plot(sessions_JC240[0:8], accuracy_JC240[0:8])\n",
    "ax1.plot(sessions_JC241[0:8], accuracy_JC241[0:8])\n",
    "ax1.set_title(\"Choice accuracy over training days\", fontsize=20)\n",
    "ax1.set_xlabel(\"Training day\", fontsize=15)\n",
    "ax1.tick_params(labelsize=15)\n",
    "ax1.set_ylabel(\"Accuracy\", fontsize=15)\n",
    "# ax1.yaxis.set_major_formatter('{x:,.0f}%') this doesn't run on home computer\n",
    "ax1.set_ylim(25,100)\n",
    "\n",
    "plt.show()"
   ]
  }
 ],
 "metadata": {
  "kernelspec": {
   "display_name": "Python 3",
   "language": "python",
   "name": "python3"
  },
  "language_info": {
   "codemirror_mode": {
    "name": "ipython",
    "version": 3
   },
   "file_extension": ".py",
   "mimetype": "text/x-python",
   "name": "python",
   "nbconvert_exporter": "python",
   "pygments_lexer": "ipython3",
   "version": "3.7.6"
  }
 },
 "nbformat": 4,
 "nbformat_minor": 4
}
