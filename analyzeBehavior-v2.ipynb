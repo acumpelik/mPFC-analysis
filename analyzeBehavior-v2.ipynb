{
 "cells": [
  {
   "cell_type": "code",
   "execution_count": 1,
   "metadata": {},
   "outputs": [
    {
     "data": {
      "text/html": [
       "<div>\n",
       "<style scoped>\n",
       "    .dataframe tbody tr th:only-of-type {\n",
       "        vertical-align: middle;\n",
       "    }\n",
       "\n",
       "    .dataframe tbody tr th {\n",
       "        vertical-align: top;\n",
       "    }\n",
       "\n",
       "    .dataframe thead th {\n",
       "        text-align: right;\n",
       "    }\n",
       "</style>\n",
       "<table border=\"1\" class=\"dataframe\">\n",
       "  <thead>\n",
       "    <tr style=\"text-align: right;\">\n",
       "      <th></th>\n",
       "      <th>Session_ID</th>\n",
       "      <th>Flavor</th>\n",
       "      <th>Arm</th>\n",
       "      <th>Correct</th>\n",
       "      <th>CorrectBool</th>\n",
       "    </tr>\n",
       "  </thead>\n",
       "  <tbody>\n",
       "    <tr>\n",
       "      <th>0</th>\n",
       "      <td>1</td>\n",
       "      <td>H</td>\n",
       "      <td>3</td>\n",
       "      <td>N</td>\n",
       "      <td>0</td>\n",
       "    </tr>\n",
       "    <tr>\n",
       "      <th>1</th>\n",
       "      <td>1</td>\n",
       "      <td>H</td>\n",
       "      <td>7</td>\n",
       "      <td>Y</td>\n",
       "      <td>1</td>\n",
       "    </tr>\n",
       "    <tr>\n",
       "      <th>2</th>\n",
       "      <td>1</td>\n",
       "      <td>H</td>\n",
       "      <td>4</td>\n",
       "      <td>N</td>\n",
       "      <td>0</td>\n",
       "    </tr>\n",
       "    <tr>\n",
       "      <th>3</th>\n",
       "      <td>1</td>\n",
       "      <td>H</td>\n",
       "      <td>7</td>\n",
       "      <td>Y</td>\n",
       "      <td>1</td>\n",
       "    </tr>\n",
       "    <tr>\n",
       "      <th>4</th>\n",
       "      <td>1</td>\n",
       "      <td>H</td>\n",
       "      <td>2</td>\n",
       "      <td>N</td>\n",
       "      <td>0</td>\n",
       "    </tr>\n",
       "  </tbody>\n",
       "</table>\n",
       "</div>"
      ],
      "text/plain": [
       "   Session_ID Flavor  Arm Correct  CorrectBool\n",
       "0           1      H    3       N            0\n",
       "1           1      H    7       Y            1\n",
       "2           1      H    4       N            0\n",
       "3           1      H    7       Y            1\n",
       "4           1      H    2       N            0"
      ]
     },
     "execution_count": 1,
     "metadata": {},
     "output_type": "execute_result"
    }
   ],
   "source": [
    "import pandas as pd\n",
    "import numpy as np\n",
    "import matplotlib.pyplot as plt\n",
    "\n",
    "# Import the data\n",
    "JC240_data = pd.read_csv('JC240_data.csv')\n",
    "JC241_data = pd.read_csv('JC241_data.csv')\n",
    "\n",
    "# Show data\n",
    "JC240_data.head()\n",
    "JC241_data.head()"
   ]
  },
  {
   "cell_type": "code",
   "execution_count": 62,
   "metadata": {},
   "outputs": [
    {
     "name": "stdout",
     "output_type": "stream",
     "text": [
      "46.15384615384615\n",
      "[46. 53. 46. 61. 71. 73. 84. 83. 34. 55. 67. 74. 64. 68. 83. 80.]\n"
     ]
    }
   ],
   "source": [
    "# Calculate accuracy for JC240 for session 1\n",
    "bysession_JC40 = JC240_data.groupby(\"Session_ID\")\n",
    "session1_accuracy = bysession_JC40.get_group(1)[\"CorrectBool\"].sum() / bysession_JC40.get_group(1).count()[0] * 100 # sum of correct trials over total trials converted into percent\n",
    "print(session1_accuracy)\n",
    "\n",
    "# Calculate accuracy for JC240 over all sessions\n",
    "def get_accuracy(JC2xx_data, bysession_JC2xx):\n",
    "    sessions = bysession_JC2xx[\"Session_ID\"].unique()\n",
    "    accuracy = np.zeros(len(sessions))\n",
    "    for session in range(1, len(sessions)+1):\n",
    "        accuracy[session-1] = round(bysession_JC2xx.get_group(session)[\"CorrectBool\"].sum() / bysession_JC2xx.get_group(session).count()[0]*100, 0)\n",
    "    return accuracy\n",
    "    \n",
    "accuracy_JC240 = get_accuracy(JC240_data, bysession_JC40)\n",
    "accuracy_JC241 = get_accuracy(JC241_data)\n",
    "print(accuracy)"
   ]
  },
  {
   "cell_type": "code",
   "execution_count": 39,
   "metadata": {},
   "outputs": [
    {
     "data": {
      "text/plain": [
       "Session_ID     26\n",
       "Flavor         26\n",
       "Arm            26\n",
       "Correct        26\n",
       "CorrectBool    26\n",
       "dtype: int64"
      ]
     },
     "execution_count": 39,
     "metadata": {},
     "output_type": "execute_result"
    }
   ],
   "source": [
    "sessions_test = bysession_JC40[\"Session_ID\"].unique()\n",
    "sessions_test[1][0]\n",
    "# s = sessions_test.tolist()\n",
    "# print(s)\n",
    "bysession_JC40.get_group(1).count()"
   ]
  },
  {
   "cell_type": "code",
   "execution_count": 5,
   "metadata": {},
   "outputs": [
    {
     "data": {
      "text/plain": [
       "array([ 1,  2,  3,  4,  5,  6,  7,  8,  9, 10, 11, 12, 13, 14, 15, 16],\n",
       "      dtype=int64)"
      ]
     },
     "execution_count": 5,
     "metadata": {},
     "output_type": "execute_result"
    }
   ],
   "source": [
    "# List all sessions\n",
    "JC240_sessions = JC240_data[\"Session_ID\"].unique()\n",
    "JC240_sessions"
   ]
  },
  {
   "cell_type": "code",
   "execution_count": 4,
   "metadata": {},
   "outputs": [
    {
     "data": {
      "text/plain": [
       "Session_ID\n",
       "1     [Session_ID, Flavor, Arm, Correct, CorrectBool]\n",
       "2     [Session_ID, Flavor, Arm, Correct, CorrectBool]\n",
       "3     [Session_ID, Flavor, Arm, Correct, CorrectBool]\n",
       "4     [Session_ID, Flavor, Arm, Correct, CorrectBool]\n",
       "5     [Session_ID, Flavor, Arm, Correct, CorrectBool]\n",
       "6     [Session_ID, Flavor, Arm, Correct, CorrectBool]\n",
       "7     [Session_ID, Flavor, Arm, Correct, CorrectBool]\n",
       "8     [Session_ID, Flavor, Arm, Correct, CorrectBool]\n",
       "9     [Session_ID, Flavor, Arm, Correct, CorrectBool]\n",
       "10    [Session_ID, Flavor, Arm, Correct, CorrectBool]\n",
       "11    [Session_ID, Flavor, Arm, Correct, CorrectBool]\n",
       "12    [Session_ID, Flavor, Arm, Correct, CorrectBool]\n",
       "13    [Session_ID, Flavor, Arm, Correct, CorrectBool]\n",
       "14    [Session_ID, Flavor, Arm, Correct, CorrectBool]\n",
       "15    [Session_ID, Flavor, Arm, Correct, CorrectBool]\n",
       "16    [Session_ID, Flavor, Arm, Correct, CorrectBool]\n",
       "dtype: object"
      ]
     },
     "execution_count": 4,
     "metadata": {},
     "output_type": "execute_result"
    }
   ],
   "source": [
    "# Calculate accuracy for all sessions\n",
    "# Output:\n",
    "# Session 1: sum(CorrectBool)/c\n",
    "# Session2:\n",
    "JC240_data.groupby(\"Session_ID\").apply(list)"
   ]
  },
  {
   "cell_type": "code",
   "execution_count": null,
   "metadata": {},
   "outputs": [],
   "source": []
  }
 ],
 "metadata": {
  "kernelspec": {
   "display_name": "Python 3",
   "language": "python",
   "name": "python3"
  },
  "language_info": {
   "codemirror_mode": {
    "name": "ipython",
    "version": 3
   },
   "file_extension": ".py",
   "mimetype": "text/x-python",
   "name": "python",
   "nbconvert_exporter": "python",
   "pygments_lexer": "ipython3",
   "version": "3.7.6"
  }
 },
 "nbformat": 4,
 "nbformat_minor": 4
}
