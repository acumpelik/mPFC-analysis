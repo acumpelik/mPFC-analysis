{
 "cells": [
  {
   "cell_type": "code",
   "execution_count": 1,
   "metadata": {},
   "outputs": [],
   "source": [
    "import pandas as pd\n",
    "import numpy as np\n",
    "from scipy import stats\n",
    "import matplotlib.pyplot as plt\n",
    "import datetime\n",
    "\n",
    "# Note: used Data Color Picker from learnui.design for color scheme\n",
    "\n",
    "# Import the data\n",
    "JC240_data = pd.read_csv('JC240_data.csv')\n",
    "JC241_data = pd.read_csv('JC241_data.csv')"
   ]
  },
  {
   "cell_type": "code",
   "execution_count": 6,
   "metadata": {},
   "outputs": [],
   "source": [
    "# Calculate accuracy for over all sessions for a given animal\n",
    "def get_accuracy(JCxxx):\n",
    "    data_JCxxx = str(JCxxx) + \"_data\" # concatenate strings\n",
    "    data_JCxxx = globals()[data_JCxxx] # convert string to variable\n",
    "    bysession_JCxxx = data_JCxxx.groupby(\"Session_ID\")\n",
    "    sessions = bysession_JCxxx[\"Session_ID\"].unique().to_numpy(dtype=int)\n",
    "    accuracy = np.zeros(len(sessions))\n",
    "    for session in range(1, len(sessions)+1):\n",
    "        accuracy[session-1] = round(bysession_JCxxx.get_group(session)[\"CorrectBool\"].sum() / bysession_JCxxx.get_group(session).count()[0]*100, 0)\n",
    "    return accuracy, sessions\n",
    "    \n",
    "accuracy_JC240, sessions_JC240 = get_accuracy(\"JC240\")\n",
    "accuracy_JC241, sessions_JC241 = get_accuracy(\"JC241\")"
   ]
  },
  {
   "cell_type": "code",
   "execution_count": 7,
   "metadata": {},
   "outputs": [],
   "source": [
    "# Calculate arm choice by session\n",
    "def get_arm_choice(JCxxx):\n",
    "    data_JCxxx = str(JCxxx) + \"_data\" # get data\n",
    "    data_JCxxx = globals()[data_JCxxx] # turn into variable\n",
    "    bysession_JCxxx = data_JCxxx.groupby(\"Session_ID\") # group by session\n",
    "    sessions = bysession_JCxxx[\"Session_ID\"].unique() # list sessions\n",
    "    arms = np.array([3, 7]) # list arms of interest\n",
    "    num_arms = len(arms) # count arms\n",
    "    arm_choice = np.zeros((len(sessions), num_arms+1)) # make a vector that will hold arm choice for each session\n",
    "                                                        # and add another column for other arms\n",
    "    num_trials = np.zeros(len(sessions))\n",
    "    for session in range(1, len(sessions)+1): # iterate over sessions, starting at 1 instead of 0\n",
    "        num_trials[session-1] = bysession_JCxxx.get_group(session).count()[0] # count number of trials per session\n",
    "        for arm in range(num_arms): # iterate over arms by indexing numpy array\n",
    "            this_session = bysession_JCxxx.get_group(session)\n",
    "            choices_bool = this_session[\"Arm\"]==(arms[arm]) # Boolean of whether arm was chosen\n",
    "            count = len(choices_bool[choices_bool==True])\n",
    "            arm_choice[session-1][arm] = count\n",
    "        arm_choice[session-1][-1] = num_trials[session-1] - arm_choice[session-1][0] - arm_choice[session-1][1]\n",
    "                                    # for last column subtract arms of interest from total trials\n",
    "    arm_choice = arm_choice / num_trials[:,None] # express arm choice as a proportion of total trials\n",
    "    return num_trials, arm_choice\n",
    "\n",
    "num_trials_JC240, arm_choice_JC240 = get_arm_choice(\"JC240\")\n",
    "num_trials_JC241, arm_choice_JC241 = get_arm_choice(\"JC241\")"
   ]
  },
  {
   "cell_type": "code",
   "execution_count": 4,
   "metadata": {},
   "outputs": [],
   "source": [
    "# Compute statistics\n",
    "accuracy_mean = np.mean([accuracy_JC240[0:8], accuracy_JC241[0:8]], axis=0)\n",
    "accuracy_sem = stats.sem([accuracy_JC240[0:8], accuracy_JC241[0:8]], axis=0)\n",
    "\n",
    "arm_choice_mean = np.mean([arm_choice_JC240[0:8], arm_choice_JC241[0:8]], axis=0)\n",
    "arm_choice_sem = stats.sem([arm_choice_JC240[0:8], arm_choice_JC241[0:8]], axis=0)"
   ]
  },
  {
   "cell_type": "code",
   "execution_count": null,
   "metadata": {},
   "outputs": [],
   "source": []
  }
 ],
 "metadata": {
  "kernelspec": {
   "display_name": "Python 3",
   "language": "python",
   "name": "python3"
  },
  "language_info": {
   "codemirror_mode": {
    "name": "ipython",
    "version": 3
   },
   "file_extension": ".py",
   "mimetype": "text/x-python",
   "name": "python",
   "nbconvert_exporter": "python",
   "pygments_lexer": "ipython3",
   "version": "3.8.5"
  }
 },
 "nbformat": 4,
 "nbformat_minor": 4
}
