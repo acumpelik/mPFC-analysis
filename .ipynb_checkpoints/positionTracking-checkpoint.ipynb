{
 "cells": [
  {
   "cell_type": "markdown",
   "metadata": {},
   "source": [
    "## JC274-20220314 .whl metadata\n",
    "Animal: **JC274** <br>\n",
    "Chocolate_arm: **8** <br>\n",
    "Honey_arm: **4** <br>\n",
    "Sunflower_arm: 5 (not relevant for this session) <br>\n",
    "---\n",
    "Training_day: **8** <br>\n",
    "Accuracy: **64.29%** <br>\n",
    "Threshold_reached_day: **10** <br>"
   ]
  },
  {
   "cell_type": "code",
   "execution_count": null,
   "metadata": {},
   "outputs": [],
   "source": [
    "import numpy as np\n",
    "import pandas as pd\n",
    "import matplotlib.pyplot as plt\n",
    "import datetime\n",
    "\n",
    "basename = 'JC274-20220314'\n",
    "timenow = datetime.datetime.today().strftime(\"%Y%m%d-%H%M%S\")\n",
    "print(timenow)\n",
    "\n",
    "pos = pd.read_csv(basename+'.whl', sep=\" \",\n",
    "                 header=None,\n",
    "                 names=[\"x1\",\"y1\",\"x2\",\"y2\",\"timestamps\",\"valid\"])"
   ]
  },
  {
   "cell_type": "code",
   "execution_count": null,
   "metadata": {},
   "outputs": [],
   "source": [
    "pos.head()"
   ]
  },
  {
   "cell_type": "code",
   "execution_count": null,
   "metadata": {},
   "outputs": [],
   "source": [
    "pos[pos == 1023] = np.nan # replace 1023 (error value) with NaN\n",
    "print(pos.describe())"
   ]
  },
  {
   "cell_type": "code",
   "execution_count": null,
   "metadata": {},
   "outputs": [],
   "source": [
    "x1 = pos[\"x1\"]\n",
    "y1 = pos[\"y1\"]\n",
    "timestamps = pos[\"timestamps\"]"
   ]
  },
  {
   "cell_type": "code",
   "execution_count": null,
   "metadata": {},
   "outputs": [],
   "source": [
    "fig, ax = plt.subplots(figsize=(8,8))\n",
    "ax.plot(x1, y1, linewidth=1)\n",
    "ax.set_title(basename+\" tracking\", fontsize=18, y=1.01)\n",
    "ax.tick_params(labelsize=14)\n",
    "plt.xlim(0,160)\n",
    "plt.ylim(0,160)\n",
    "plt.show()\n",
    "# plt.savefig(basename+\"_tracking_\"+timenow+\".png\")"
   ]
  },
  {
   "cell_type": "code",
   "execution_count": null,
   "metadata": {},
   "outputs": [],
   "source": [
    "timestamps.describe()"
   ]
  },
  {
   "cell_type": "code",
   "execution_count": null,
   "metadata": {},
   "outputs": [],
   "source": [
    "print(timestamps.min(), timestamps.max())\n",
    "print(timestamps.count())"
   ]
  },
  {
   "cell_type": "code",
   "execution_count": null,
   "metadata": {},
   "outputs": [],
   "source": [
    "timestart = 0\n",
    "timeend = 1_030_000\n",
    "subset = pos.loc[(timestamps > timestart) & (timestamps < timeend)]\n",
    "\n",
    "fig, ax = plt.subplots(figsize=(8,8))\n",
    "ax.plot(subset[\"x1\"], subset[\"y1\"], linewidth=1)\n",
    "ax.set_title(basename+\" tracking subset\", fontsize=18, y=1.01)\n",
    "ax.tick_params(labelsize=14)\n",
    "plt.xlim(0,160)\n",
    "plt.ylim(0,160)\n",
    "plt.show()\n",
    "# plt.savefig(basename+\"_tracking-subset_\"+timenow+\".png\")"
   ]
  },
  {
   "cell_type": "code",
   "execution_count": null,
   "metadata": {},
   "outputs": [],
   "source": []
  }
 ],
 "metadata": {
  "kernelspec": {
   "display_name": "Python 3",
   "language": "python",
   "name": "python3"
  },
  "language_info": {
   "codemirror_mode": {
    "name": "ipython",
    "version": 3
   },
   "file_extension": ".py",
   "mimetype": "text/x-python",
   "name": "python",
   "nbconvert_exporter": "python",
   "pygments_lexer": "ipython3",
   "version": "3.7.6"
  }
 },
 "nbformat": 4,
 "nbformat_minor": 4
}
