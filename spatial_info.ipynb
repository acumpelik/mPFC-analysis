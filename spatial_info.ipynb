{
 "cells": [
  {
   "cell_type": "code",
   "execution_count": 1,
   "id": "68a07318-c2ae-4a4e-add2-309e57a40e63",
   "metadata": {},
   "outputs": [],
   "source": [
    "from spatial_info_utils import calculate_cell_stats\n",
    "import matplotlib.pyplot as plt\n",
    "from scipy.stats import pearsonr #ttest_rel\n",
    "import matplotlib.patches as mpatches"
   ]
  },
  {
   "cell_type": "code",
   "execution_count": 2,
   "id": "c68b57a9-138a-4e25-9ca8-6e08507cde81",
   "metadata": {},
   "outputs": [],
   "source": [
    "def combine_halves(spatial_info_box, session):\n",
    "    spatial_info = []\n",
    "    if session == 'training1':\n",
    "        for i in range(len(r_vals)):\n",
    "            if spatial_info_box[0][i] > 0 and spatial_info_box[1][i] > 0:\n",
    "                spatial_info.append((spatial_info_box[0][i] + spatial_info_box[1][i])/2)\n",
    "            elif spatial_info_box[0][i] > 0:\n",
    "                spatial_info.append(spatial_info_box[0][i])\n",
    "            elif spatial_info_box[1][i] > 0:\n",
    "                spatial_info.append(spatial_info_box[0][i])\n",
    "            else:\n",
    "                spatial_info.append('nan')\n",
    "    \n",
    "    if session == 'training2':\n",
    "        for i in range(len(r_vals)):\n",
    "            if spatial_info_box[2][i] > 0 and spatial_info_box[3][i] > 0:\n",
    "                spatial_info.append((spatial_info_box[2][i] + spatial_info_box[3][i])/2)\n",
    "            elif spatial_info_box[2][i] > 0:\n",
    "                spatial_info.append(spatial_info_box[2][i])\n",
    "            elif spatial_info_box[3][i] > 0:\n",
    "                spatial_info.append(spatial_info_box[3][i])\n",
    "            else:\n",
    "                spatial_info.append('nan')\n",
    "    return spatial_info\n",
    "\n",
    "# print(r_vals)\n",
    "# print(spatial_info)"
   ]
  },
  {
   "cell_type": "code",
   "execution_count": 7,
   "id": "20320910-4bee-477d-b6d0-ad41e37f88dc",
   "metadata": {},
   "outputs": [],
   "source": [
    "animal = 'JC274'\n",
    "session = 'training1'\n",
    "day_index = 2 #Following below:\n",
    "days_dict = {'JC315': ['20240406', '20240407'], \n",
    "             'JC283': ['20220919', '20220920', '20220921', '20220923'], \n",
    "             'JC274': ['20220312', '20220313', '20220314', '20220315']}\n",
    "\n",
    "rewarded_arms_dict = {'JC315': ['3', '8'], \n",
    "                      'JC283': ['7', '2'], \n",
    "                      'JC274': ['3', '7']} #, '8' also for JC274, but only for some days\n",
    "arms = rewarded_arms_dict[animal]"
   ]
  },
  {
   "cell_type": "code",
   "execution_count": null,
   "id": "8d57ccba-7418-4200-8c22-cb2e133d1680",
   "metadata": {},
   "outputs": [],
   "source": [
    "fig, ax = plt.subplots(1, len(arms), figsize = (11, 5))\n",
    "cell_type = 'pp' #cell_type is 'pp', 'pc', 'p1' or 'bp' and 'b1' in some cases\n",
    "for k in range(len(arms)):\n",
    "    a_bars, r_vals, p_vals, spatial_info_box = calculate_cell_stats(animal, session, day_index, arms[k])\n",
    "    # print(r_vals)\n",
    "    spatial_info = combine_halves(spatial_info_box, session)\n",
    "    #Color by whether cells are phase locked\n",
    "    phase_locked_cell = [i < 0.05 for i in p_vals]\n",
    "    colors = ['tab:blue' for i in p_vals]\n",
    "    for j in range(len(colors)):\n",
    "        if phase_locked_cell[j]:\n",
    "            colors[j] = 'tab:orange'\n",
    "    color_dict = {'Not phase locked': 'tab:blue', 'Phase locked': 'tab:orange'}\n",
    "    legend_patches = [mpatches.Patch(color=color, label=locked) for locked, color in color_dict.items()]\n",
    "    ax[k].legend(handles=legend_patches) #, loc='center left', bbox_to_anchor=(1, 0.5), title = 'Phase Locked?'\n",
    "    ax[k].set_xlabel('Resultant Vector Length')\n",
    "    ax[k].set_ylabel('Spatial Info (bits/spike)')\n",
    "    ax[k].set_title(animal + ' ' + session + ' Arm' + arms[k] + ' ' + cell_type)\n",
    "    if len(r_vals) != 0 and len(spatial_info) != 0:\n",
    "        ax[k].scatter(r_vals, spatial_info, c = colors)\n",
    "        corr_coef, p_val = pearsonr(r_vals, spatial_info)\n",
    "        ax[k].annotate(f'r = {corr_coef:.4f}', xy=(270, 15), \n",
    "                          color = 'black', xycoords = 'axes points', fontsize = 8, ha = 'right')\n",
    "        ax[k].annotate(f'p = {p_val:.4f}', xy=(270, 5), \n",
    "                          color = 'black', xycoords = 'axes points', fontsize = 8, ha = 'right')\n",
    "        # print(f'Corr coef: {corr_coef:.2f}, p-val: {p_val:.5f}')\n",
    "\n",
    "plt.savefig('Spatial_info_' + animal + '_' + days_dict[animal][day_index] + '_' + session + '_' + cell_type + '.png', format = 'png')"
   ]
  },
  {
   "cell_type": "code",
   "execution_count": null,
   "id": "b125f878-402b-4d90-8ce0-d6f9df74e31c",
   "metadata": {},
   "outputs": [],
   "source": []
  }
 ],
 "metadata": {
  "kernelspec": {
   "display_name": "Python 3 (ipykernel)",
   "language": "python",
   "name": "python3"
  },
  "language_info": {
   "codemirror_mode": {
    "name": "ipython",
    "version": 3
   },
   "file_extension": ".py",
   "mimetype": "text/x-python",
   "name": "python",
   "nbconvert_exporter": "python",
   "pygments_lexer": "ipython3",
   "version": "3.12.4"
  }
 },
 "nbformat": 4,
 "nbformat_minor": 5
}
