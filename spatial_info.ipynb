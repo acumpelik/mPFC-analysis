{
 "cells": [
  {
   "cell_type": "code",
   "execution_count": null,
   "id": "initial_id",
   "metadata": {
    "collapsed": true
   },
   "outputs": [],
   "source": "import numpy as np"
  },
  {
   "metadata": {
    "ExecuteTime": {
     "end_time": "2025-07-29T00:02:45.492999Z",
     "start_time": "2025-07-29T00:02:45.488766Z"
    }
   },
   "cell_type": "code",
   "source": [
    "animal = 'JC315'\n",
    "day = 20240407\n",
    "session = '1'"
   ],
   "id": "cba1d66ccbcbfbdb",
   "outputs": [],
   "execution_count": 7
  },
  {
   "metadata": {
    "ExecuteTime": {
     "end_time": "2025-07-29T00:03:29.972911Z",
     "start_time": "2025-07-29T00:03:29.969734Z"
    }
   },
   "cell_type": "code",
   "source": [
    "path = f'/Users/andrea/github/vlad_analysis_folder/{animal}-{day}/'\n",
    "good_cell_metrics = f'{path}{animal}-{day}-{session}goodcell.metrics'"
   ],
   "id": "202f6ffe755e6ae8",
   "outputs": [],
   "execution_count": 16
  },
  {
   "metadata": {
    "ExecuteTime": {
     "end_time": "2025-07-29T00:04:28.967769Z",
     "start_time": "2025-07-29T00:04:28.947383Z"
    }
   },
   "cell_type": "code",
   "source": [
    "print(good_cell_metrics)\n",
    "\n",
    "with good_cell_metrics.open() as f:\n",
    "    for _ in range(15):\n",
    "        print(next(f).rstrip())"
   ],
   "id": "81a897256862eb2d",
   "outputs": [
    {
     "name": "stdout",
     "output_type": "stream",
     "text": [
      "/Users/andrea/github/vlad_analysis_folder/JC315-20240407/JC315-20240407-1goodcell.metrics\n"
     ]
    },
    {
     "ename": "AttributeError",
     "evalue": "'str' object has no attribute 'open'",
     "output_type": "error",
     "traceback": [
      "\u001B[31m---------------------------------------------------------------------------\u001B[39m",
      "\u001B[31mAttributeError\u001B[39m                            Traceback (most recent call last)",
      "\u001B[36mCell\u001B[39m\u001B[36m \u001B[39m\u001B[32mIn[18]\u001B[39m\u001B[32m, line 3\u001B[39m\n\u001B[32m      1\u001B[39m \u001B[38;5;28mprint\u001B[39m(good_cell_metrics)\n\u001B[32m----> \u001B[39m\u001B[32m3\u001B[39m \u001B[38;5;28;01mwith\u001B[39;00m \u001B[43mgood_cell_metrics\u001B[49m\u001B[43m.\u001B[49m\u001B[43mopen\u001B[49m() \u001B[38;5;28;01mas\u001B[39;00m f:\n\u001B[32m      4\u001B[39m     \u001B[38;5;28;01mfor\u001B[39;00m _ \u001B[38;5;129;01min\u001B[39;00m \u001B[38;5;28mrange\u001B[39m(\u001B[32m15\u001B[39m):\n\u001B[32m      5\u001B[39m         \u001B[38;5;28mprint\u001B[39m(\u001B[38;5;28mnext\u001B[39m(f).rstrip())\n",
      "\u001B[31mAttributeError\u001B[39m: 'str' object has no attribute 'open'"
     ]
    }
   ],
   "execution_count": 18
  }
 ],
 "metadata": {
  "kernelspec": {
   "display_name": "Python 3",
   "language": "python",
   "name": "python3"
  },
  "language_info": {
   "codemirror_mode": {
    "name": "ipython",
    "version": 2
   },
   "file_extension": ".py",
   "mimetype": "text/x-python",
   "name": "python",
   "nbconvert_exporter": "python",
   "pygments_lexer": "ipython2",
   "version": "2.7.6"
  }
 },
 "nbformat": 4,
 "nbformat_minor": 5
}
