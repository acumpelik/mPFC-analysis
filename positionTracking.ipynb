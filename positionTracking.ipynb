{
 "cells": [
  {
   "cell_type": "markdown",
   "metadata": {},
   "source": [
    "## JC274-20220314 .whl metadata\n",
    "Animal: **JC274** <br>\n",
    "Chocolate_arm: **8** <br>\n",
    "Honey_arm: **4** <br>\n",
    "Sunflower_arm: 5 (not relevant for this session) <br>\n",
    "---\n",
    "Training_day: **8** <br>\n",
    "Accuracy: **64.29%** <br>\n",
    "Threshold_reached_day: **10** <br>"
   ]
  },
  {
   "cell_type": "code",
   "execution_count": 3,
   "metadata": {},
   "outputs": [
    {
     "name": "stdout",
     "output_type": "stream",
     "text": [
      "20230113-111832\n"
     ]
    }
   ],
   "source": [
    "import numpy as np\n",
    "import pandas as pd\n",
    "import matplotlib.pyplot as plt\n",
    "import datetime\n",
    "\n",
    "basename = 'JC274-20220314'\n",
    "timenow = datetime.datetime.today().strftime(\"%Y%m%d-%H%M%S\")\n",
    "print(timenow)\n",
    "\n",
    "pos = pd.read_csv(basename+'.whl', sep=\" \",\n",
    "                 header=None,\n",
    "                 names=[\"x1\",\"y1\",\"x2\",\"y2\",\"timestamps\",\"valid\"])"
   ]
  },
  {
   "cell_type": "code",
   "execution_count": 2,
   "metadata": {},
   "outputs": [
    {
     "data": {
      "text/html": [
       "<div>\n",
       "<style scoped>\n",
       "    .dataframe tbody tr th:only-of-type {\n",
       "        vertical-align: middle;\n",
       "    }\n",
       "\n",
       "    .dataframe tbody tr th {\n",
       "        vertical-align: top;\n",
       "    }\n",
       "\n",
       "    .dataframe thead th {\n",
       "        text-align: right;\n",
       "    }\n",
       "</style>\n",
       "<table border=\"1\" class=\"dataframe\">\n",
       "  <thead>\n",
       "    <tr style=\"text-align: right;\">\n",
       "      <th></th>\n",
       "      <th>x1</th>\n",
       "      <th>y1</th>\n",
       "      <th>x2</th>\n",
       "      <th>y2</th>\n",
       "      <th>timestamps</th>\n",
       "      <th>valid</th>\n",
       "    </tr>\n",
       "  </thead>\n",
       "  <tbody>\n",
       "    <tr>\n",
       "      <th>0</th>\n",
       "      <td>76</td>\n",
       "      <td>78</td>\n",
       "      <td>1023</td>\n",
       "      <td>1023</td>\n",
       "      <td>1</td>\n",
       "      <td>1</td>\n",
       "    </tr>\n",
       "    <tr>\n",
       "      <th>1</th>\n",
       "      <td>1023</td>\n",
       "      <td>1023</td>\n",
       "      <td>1023</td>\n",
       "      <td>1023</td>\n",
       "      <td>127</td>\n",
       "      <td>0</td>\n",
       "    </tr>\n",
       "    <tr>\n",
       "      <th>2</th>\n",
       "      <td>1023</td>\n",
       "      <td>1023</td>\n",
       "      <td>1023</td>\n",
       "      <td>1023</td>\n",
       "      <td>607</td>\n",
       "      <td>0</td>\n",
       "    </tr>\n",
       "    <tr>\n",
       "      <th>3</th>\n",
       "      <td>1023</td>\n",
       "      <td>1023</td>\n",
       "      <td>1023</td>\n",
       "      <td>1023</td>\n",
       "      <td>1087</td>\n",
       "      <td>0</td>\n",
       "    </tr>\n",
       "    <tr>\n",
       "      <th>4</th>\n",
       "      <td>1023</td>\n",
       "      <td>1023</td>\n",
       "      <td>1023</td>\n",
       "      <td>1023</td>\n",
       "      <td>1567</td>\n",
       "      <td>0</td>\n",
       "    </tr>\n",
       "  </tbody>\n",
       "</table>\n",
       "</div>"
      ],
      "text/plain": [
       "     x1    y1    x2    y2  timestamps  valid\n",
       "0    76    78  1023  1023           1      1\n",
       "1  1023  1023  1023  1023         127      0\n",
       "2  1023  1023  1023  1023         607      0\n",
       "3  1023  1023  1023  1023        1087      0\n",
       "4  1023  1023  1023  1023        1567      0"
      ]
     },
     "execution_count": 2,
     "metadata": {},
     "output_type": "execute_result"
    }
   ],
   "source": [
    "pos.head()"
   ]
  },
  {
   "cell_type": "code",
   "execution_count": null,
   "metadata": {},
   "outputs": [],
   "source": [
    "pos[pos == 1023] = np.nan # replace 1023 (error value) with NaN\n",
    "print(pos.describe())"
   ]
  },
  {
   "cell_type": "code",
   "execution_count": null,
   "metadata": {},
   "outputs": [],
   "source": [
    "x1 = pos[\"x1\"]\n",
    "y1 = pos[\"y1\"]\n",
    "timestamps = pos[\"timestamps\"]"
   ]
  },
  {
   "cell_type": "code",
   "execution_count": null,
   "metadata": {},
   "outputs": [],
   "source": [
    "fig, ax = plt.subplots(figsize=(8,8))\n",
    "ax.plot(x1, y1, linewidth=1)\n",
    "ax.set_title(basename+\" tracking\", fontsize=18, y=1.01)\n",
    "ax.tick_params(labelsize=14)\n",
    "plt.xlim(0,160)\n",
    "plt.ylim(0,160)\n",
    "plt.show()\n",
    "# plt.savefig(basename+\"_tracking_\"+timenow+\".png\")"
   ]
  },
  {
   "cell_type": "code",
   "execution_count": null,
   "metadata": {},
   "outputs": [],
   "source": [
    "timestamps.describe()"
   ]
  },
  {
   "cell_type": "code",
   "execution_count": null,
   "metadata": {},
   "outputs": [],
   "source": [
    "print(timestamps.min(), timestamps.max())\n",
    "print(timestamps.count())"
   ]
  },
  {
   "cell_type": "code",
   "execution_count": null,
   "metadata": {},
   "outputs": [],
   "source": [
    "timestart = 0\n",
    "timeend = 1_030_000\n",
    "subset = pos.loc[(timestamps > timestart) & (timestamps < timeend)]\n",
    "\n",
    "fig, ax = plt.subplots(figsize=(8,8))\n",
    "ax.plot(subset[\"x1\"], subset[\"y1\"], linewidth=1)\n",
    "ax.set_title(basename+\" tracking subset\", fontsize=18, y=1.01)\n",
    "ax.tick_params(labelsize=14)\n",
    "plt.xlim(0,160)\n",
    "plt.ylim(0,160)\n",
    "plt.show()\n",
    "# plt.savefig(basename+\"_tracking-subset_\"+timenow+\".png\")"
   ]
  },
  {
   "cell_type": "code",
   "execution_count": null,
   "metadata": {},
   "outputs": [],
   "source": []
  }
 ],
 "metadata": {
  "kernelspec": {
   "display_name": "Python 3",
   "language": "python",
   "name": "python3"
  },
  "language_info": {
   "codemirror_mode": {
    "name": "ipython",
    "version": 3
   },
   "file_extension": ".py",
   "mimetype": "text/x-python",
   "name": "python",
   "nbconvert_exporter": "python",
   "pygments_lexer": "ipython3",
   "version": "3.7.6"
  }
 },
 "nbformat": 4,
 "nbformat_minor": 4
}
