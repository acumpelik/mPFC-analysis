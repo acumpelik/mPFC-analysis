{
 "cells": [
  {
   "cell_type": "code",
   "execution_count": 33,
   "metadata": {},
   "outputs": [],
   "source": [
    "import numpy as np\n",
    "import pandas as pd\n",
    "import matplotlib.pyplot as plt\n",
    "\n",
    "pos = pd.read_csv('JC274-20220312.whl', sep=\" \",\n",
    "                 header=None,\n",
    "                 names=[\"x1\",\"y1\",\"x2\",\"y2\",\"timestamps\",\"valid\"])"
   ]
  },
  {
   "cell_type": "code",
   "execution_count": 34,
   "metadata": {},
   "outputs": [
    {
     "data": {
      "text/html": [
       "<div>\n",
       "<style scoped>\n",
       "    .dataframe tbody tr th:only-of-type {\n",
       "        vertical-align: middle;\n",
       "    }\n",
       "\n",
       "    .dataframe tbody tr th {\n",
       "        vertical-align: top;\n",
       "    }\n",
       "\n",
       "    .dataframe thead th {\n",
       "        text-align: right;\n",
       "    }\n",
       "</style>\n",
       "<table border=\"1\" class=\"dataframe\">\n",
       "  <thead>\n",
       "    <tr style=\"text-align: right;\">\n",
       "      <th></th>\n",
       "      <th>x1</th>\n",
       "      <th>y1</th>\n",
       "      <th>x2</th>\n",
       "      <th>y2</th>\n",
       "      <th>timestamps</th>\n",
       "      <th>valid</th>\n",
       "    </tr>\n",
       "  </thead>\n",
       "  <tbody>\n",
       "    <tr>\n",
       "      <th>0</th>\n",
       "      <td>87</td>\n",
       "      <td>86</td>\n",
       "      <td>1023</td>\n",
       "      <td>1023</td>\n",
       "      <td>1</td>\n",
       "      <td>1</td>\n",
       "    </tr>\n",
       "    <tr>\n",
       "      <th>1</th>\n",
       "      <td>1023</td>\n",
       "      <td>1023</td>\n",
       "      <td>1023</td>\n",
       "      <td>1023</td>\n",
       "      <td>307</td>\n",
       "      <td>0</td>\n",
       "    </tr>\n",
       "    <tr>\n",
       "      <th>2</th>\n",
       "      <td>126</td>\n",
       "      <td>109</td>\n",
       "      <td>1023</td>\n",
       "      <td>1023</td>\n",
       "      <td>787</td>\n",
       "      <td>1</td>\n",
       "    </tr>\n",
       "    <tr>\n",
       "      <th>3</th>\n",
       "      <td>126</td>\n",
       "      <td>109</td>\n",
       "      <td>1023</td>\n",
       "      <td>1023</td>\n",
       "      <td>1267</td>\n",
       "      <td>1</td>\n",
       "    </tr>\n",
       "    <tr>\n",
       "      <th>4</th>\n",
       "      <td>126</td>\n",
       "      <td>109</td>\n",
       "      <td>1023</td>\n",
       "      <td>1023</td>\n",
       "      <td>1747</td>\n",
       "      <td>1</td>\n",
       "    </tr>\n",
       "  </tbody>\n",
       "</table>\n",
       "</div>"
      ],
      "text/plain": [
       "     x1    y1    x2    y2  timestamps  valid\n",
       "0    87    86  1023  1023           1      1\n",
       "1  1023  1023  1023  1023         307      0\n",
       "2   126   109  1023  1023         787      1\n",
       "3   126   109  1023  1023        1267      1\n",
       "4   126   109  1023  1023        1747      1"
      ]
     },
     "execution_count": 34,
     "metadata": {},
     "output_type": "execute_result"
    }
   ],
   "source": [
    "pos.head()"
   ]
  },
  {
   "cell_type": "code",
   "execution_count": 39,
   "metadata": {},
   "outputs": [
    {
     "data": {
      "text/plain": [
       "pandas.core.series.Series"
      ]
     },
     "execution_count": 39,
     "metadata": {},
     "output_type": "execute_result"
    }
   ],
   "source": [
    "type(pos[\"x1\"])"
   ]
  },
  {
   "cell_type": "code",
   "execution_count": 36,
   "metadata": {},
   "outputs": [
    {
     "name": "stdout",
     "output_type": "stream",
     "text": [
      "                 x1             y1   x2   y2    timestamps          valid\n",
      "count  284451.00000  284451.000000  0.0  0.0  4.638220e+05  463822.000000\n",
      "mean       96.11107      82.512999  NaN  NaN  1.113151e+08       0.613276\n",
      "std        24.40961      26.353360  NaN  NaN  6.426816e+07       0.487000\n",
      "min        14.00000       1.000000  NaN  NaN  1.000000e+00       0.000000\n",
      "25%        80.00000      72.000000  NaN  NaN  5.565733e+07       0.000000\n",
      "50%        86.00000      86.000000  NaN  NaN  1.113149e+08       1.000000\n",
      "75%       117.00000      90.000000  NaN  NaN  1.669730e+08       1.000000\n",
      "max       157.00000     157.000000  NaN  NaN  2.226305e+08       1.000000\n"
     ]
    }
   ],
   "source": [
    "pos[pos == 1023] = np.nan # replace 1023 (error value) with NaN\n",
    "print(pos.describe())"
   ]
  },
  {
   "cell_type": "code",
   "execution_count": 37,
   "metadata": {},
   "outputs": [
    {
     "data": {
      "image/png": "[encoded data removed]",
      "text/plain": [
       "<Figure size 432x288 with 1 Axes>"
      ]
     },
     "metadata": {
      "needs_background": "light"
     },
     "output_type": "display_data"
    }
   ],
   "source": [
    "plt.scatter(pos[\"x1\"], pos[\"y1\"], alpha=0.5)\n",
    "plt.show()"
   ]
  },
  {
   "cell_type": "code",
   "execution_count": null,
   "metadata": {},
   "outputs": [],
   "source": []
  }
 ],
 "metadata": {
  "kernelspec": {
   "display_name": "Python 3",
   "language": "python",
   "name": "python3"
  },
  "language_info": {
   "codemirror_mode": {
    "name": "ipython",
    "version": 3
   },
   "file_extension": ".py",
   "mimetype": "text/x-python",
   "name": "python",
   "nbconvert_exporter": "python",
   "pygments_lexer": "ipython3",
   "version": "3.7.6"
  }
 },
 "nbformat": 4,
 "nbformat_minor": 4
}
