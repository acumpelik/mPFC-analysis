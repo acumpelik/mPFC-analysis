{
 "cells": [
  {
   "cell_type": "code",
   "execution_count": null,
   "metadata": {},
   "outputs": [],
   "source": [
    "import numpy as np\n",
    "import pandas as pd\n",
    "import matplotlib.pyplot as plt\n",
    "\n",
    "# import the data\n",
    "f = np.loadtxt('JC274-20220312.whl')"
   ]
  },
  {
   "cell_type": "code",
   "execution_count": null,
   "metadata": {},
   "outputs": [],
   "source": [
    "x1 = f[:,0] # primary LED\n",
    "y1 = f[:,1] # primary LED\n",
    "x2 = f[:,2] # secondary LED, inactive\n",
    "y2 = f[:,3] # secondary LED, inactive\n",
    "timestamps = f[:,4]\n",
    "valid = f[:,5] # binary that indicates if record is valid or not"
   ]
  },
  {
   "cell_type": "code",
   "execution_count": null,
   "metadata": {},
   "outputs": [],
   "source": [
    "# convert to df; first make a dictionary, then convert\n",
    "df_dict = {\"x1\": x1, \"y1\": y1,\"x2\": x2, \"y2\": y2, \"timestamps\": timestamps, \"valid\": valid}\n",
    "df = pd.DataFrame(df_dict)\n",
    "df[df == 1023] = np.nan # replace 1023 (error value) with NaN\n",
    "print(df.describe())"
   ]
  },
  {
   "cell_type": "code",
   "execution_count": null,
   "metadata": {},
   "outputs": [],
   "source": [
    "plt.scatter(df.loc[:,\"x1\"], df.loc[:,\"y1\"], alpha=0.5)\n",
    "plt.show()"
   ]
  }
 ],
 "metadata": {
  "kernelspec": {
   "display_name": "Python 3",
   "language": "python",
   "name": "python3"
  },
  "language_info": {
   "codemirror_mode": {
    "name": "ipython",
    "version": 3
   },
   "file_extension": ".py",
   "mimetype": "text/x-python",
   "name": "python",
   "nbconvert_exporter": "python",
   "pygments_lexer": "ipython3",
   "version": "3.7.6"
  }
 },
 "nbformat": 4,
 "nbformat_minor": 4
}
